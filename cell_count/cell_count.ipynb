{
 "cells": [
  {
   "cell_type": "markdown",
   "metadata": {},
   "source": [
    "# ライブラリのインポート"
   ]
  },
  {
   "cell_type": "code",
   "execution_count": null,
   "metadata": {},
   "outputs": [],
   "source": [
    "import numpy as np\n",
    "import cv2\n",
    "import matplotlib.pyplot as plt\n",
    "import matplotlib\n",
    "%matplotlib inline\n",
    "import math\n",
    "import warnings\n",
    "warnings.simplefilter('ignore')"
   ]
  },
  {
   "cell_type": "markdown",
   "metadata": {},
   "source": [
    "# 画像の読み込み"
   ]
  },
  {
   "cell_type": "code",
   "execution_count": null,
   "metadata": {},
   "outputs": [],
   "source": [
    "from cv2 import cvtColor\n",
    "img = cv2.imread(\"./cell.jpg\")\n",
    "# plt.imshow(cvtColor(img, cv2.COLOR_RGB2BGR))\n",
    "original = img.copy()"
   ]
  },
  {
   "cell_type": "markdown",
   "metadata": {},
   "source": [
    "# 赤色を抽出"
   ]
  },
  {
   "cell_type": "code",
   "execution_count": null,
   "metadata": {},
   "outputs": [],
   "source": [
    "hsv = cv2.cvtColor(img, cv2.COLOR_BGR2HSV)\n",
    "# 赤色のHSVの値域1\n",
    "hsv_min = np.array([0, 64, 0])\n",
    "hsv_max = np.array([30, 255, 255])\n",
    "mask1 = cv2.inRange(hsv, hsv_min, hsv_max)\n",
    "\n",
    "# 赤色のHSVの値域2\n",
    "hsv_min = np.array([150, 64, 0])\n",
    "hsv_max = np.array([179, 255, 255])\n",
    "mask2 = cv2.inRange(hsv, hsv_min, hsv_max)\n",
    "\n",
    "# 赤色領域のマスク（255：赤色、0：赤色以外）\n",
    "mask = mask1 + mask2\n",
    "\n",
    "# マスキング処理\n",
    "img_red = cv2.bitwise_and(img, img, mask=mask)\n",
    "\n",
    "# plt.imshow(cvtColor(img_red, cv2.COLOR_RGB2BGR))"
   ]
  },
  {
   "cell_type": "markdown",
   "metadata": {},
   "source": [
    "# グレースケールに"
   ]
  },
  {
   "cell_type": "code",
   "execution_count": null,
   "metadata": {},
   "outputs": [],
   "source": [
    "img_gray = cv2.cvtColor(img_red, cv2.COLOR_BGR2GRAY)\n",
    "# plt.imshow(cvtColor(img_gray, cv2.COLOR_RGB2BGR))"
   ]
  },
  {
   "cell_type": "markdown",
   "metadata": {},
   "source": [
    "# 二値化画像の生成"
   ]
  },
  {
   "cell_type": "code",
   "execution_count": null,
   "metadata": {},
   "outputs": [],
   "source": [
    "th, img_thresh = cv2.threshold(img_gray, 0, 255, cv2.THRESH_BINARY + cv2.THRESH_OTSU)\n",
    "# plt.imshow(cvtColor(img_thresh, cv2.COLOR_RGB2BGR))"
   ]
  },
  {
   "cell_type": "markdown",
   "metadata": {},
   "source": [
    "# モルフォジー処理"
   ]
  },
  {
   "cell_type": "code",
   "execution_count": null,
   "metadata": {},
   "outputs": [],
   "source": [
    "#短形カーネルの生成\n",
    "kernel = cv2.getStructuringElement(cv2.MORPH_RECT, (3, 3))\n",
    "opening = cv2.morphologyEx(img_thresh, cv2.MORPH_OPEN, kernel, iterations=1)\n",
    "close = cv2.morphologyEx(opening, cv2.MORPH_CLOSE, kernel, iterations=2)"
   ]
  },
  {
   "cell_type": "markdown",
   "metadata": {},
   "source": [
    "# 細胞のカウント"
   ]
  },
  {
   "cell_type": "code",
   "execution_count": null,
   "metadata": {},
   "outputs": [],
   "source": [
    "cnts = cv2.findContours(close, cv2.RETR_EXTERNAL, cv2.CHAIN_APPROX_SIMPLE)\n",
    "cnts = cnts[0] if len(cnts) == 2 else cnts[1]"
   ]
  },
  {
   "cell_type": "code",
   "execution_count": null,
   "metadata": {},
   "outputs": [],
   "source": [
    "minimum_area = 20\n",
    "average_cell_area = 500\n",
    "connected_cell_area = 1000\n",
    "cells = 0\n",
    "for c in cnts:\n",
    "    area = cv2.contourArea(c)\n",
    "    if area > minimum_area:\n",
    "        cv2.drawContours(original, [c], -1, (36,255,12), 2)\n",
    "        if area > connected_cell_area:\n",
    "            cells += math.ceil(area / average_cell_area)\n",
    "        else:\n",
    "            cells += 1\n",
    "print('Cells: {}'.format(cells))"
   ]
  }
 ],
 "metadata": {
  "kernelspec": {
   "display_name": "Python 3.9.12 ('base')",
   "language": "python",
   "name": "python3"
  },
  "language_info": {
   "codemirror_mode": {
    "name": "ipython",
    "version": 3
   },
   "file_extension": ".py",
   "mimetype": "text/x-python",
   "name": "python",
   "nbconvert_exporter": "python",
   "pygments_lexer": "ipython3",
   "version": "3.9.12"
  },
  "orig_nbformat": 4,
  "vscode": {
   "interpreter": {
    "hash": "73c417c656634a8a8ad258743eceb386b1ecf69e422c3c93c83d593a0a2f1541"
   }
  }
 },
 "nbformat": 4,
 "nbformat_minor": 2
}
